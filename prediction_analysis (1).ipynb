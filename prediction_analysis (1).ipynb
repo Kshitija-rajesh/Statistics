{
 "cells": [
  {
   "cell_type": "code",
   "execution_count": 1,
   "metadata": {
    "id": "6c4R4YlkonRL"
   },
   "outputs": [],
   "source": [
    "import pandas as pd\n",
    "import numpy as np\n",
    "import matplotlib.pyplot as plt\n",
    "import seaborn as sns\n",
    "sns.set(style='darkgrid')\n",
    "\n",
    "from sklearn.linear_model import LogisticRegression\n",
    "from sklearn.model_selection import train_test_split\n",
    "from sklearn.metrics import confusion_matrix\n",
    "\n",
    "from warnings import filterwarnings\n",
    "filterwarnings(\"ignore\")\n",
    "import os"
   ]
  },
  {
   "cell_type": "markdown",
   "metadata": {
    "id": "ughtDyVPpsSI"
   },
   "source": []
  },
  {
   "cell_type": "markdown",
   "metadata": {
    "id": "lNhECmCYpTTy"
   },
   "source": [
    "# LOADING DATASETS"
   ]
  },
  {
   "cell_type": "code",
   "execution_count": 25,
   "metadata": {
    "colab": {
     "base_uri": "https://localhost:8080/"
    },
    "id": "pPu5KEbmov9z",
    "outputId": "5cd51885-2da0-4a32-ded2-9b14139d8362"
   },
   "outputs": [
    {
     "name": "stdout",
     "output_type": "stream",
     "text": [
      "Shape of df_inf:(541, 6)\n",
      "Shape of df_noinf:(541, 43)\n"
     ]
    }
   ],
   "source": [
    "df_inf=pd.read_csv(r'C:\\Users\\dell\\Downloads\\PCOS_infertility.csv', encoding='iso-8859-1')\n",
    "df_noinf=pd.read_csv(r'C:\\Users\\dell\\Downloads\\data without infertility _final.csv', encoding='iso-8859-1')\n",
    "print(f\"Shape of df_inf:{df_inf.shape}\")\n",
    "print(f\"Shape of df_noinf:{df_noinf.shape}\")"
   ]
  },
  {
   "cell_type": "code",
   "execution_count": 7,
   "metadata": {
    "colab": {
     "base_uri": "https://localhost:8080/",
     "height": 206
    },
    "id": "btf0Zp_Ev050",
    "outputId": "cabcc591-048b-4a43-b444-47326a54aef8"
   },
   "outputs": [
    {
     "data": {
      "text/html": [
       "<div>\n",
       "<style scoped>\n",
       "    .dataframe tbody tr th:only-of-type {\n",
       "        vertical-align: middle;\n",
       "    }\n",
       "\n",
       "    .dataframe tbody tr th {\n",
       "        vertical-align: top;\n",
       "    }\n",
       "\n",
       "    .dataframe thead th {\n",
       "        text-align: right;\n",
       "    }\n",
       "</style>\n",
       "<table border=\"1\" class=\"dataframe\">\n",
       "  <thead>\n",
       "    <tr style=\"text-align: right;\">\n",
       "      <th></th>\n",
       "      <th>Sl. No</th>\n",
       "      <th>Patient File No.</th>\n",
       "      <th>PCOS (Y/N)</th>\n",
       "      <th>I   beta-HCG(mIU/mL)</th>\n",
       "      <th>II    beta-HCG(mIU/mL)</th>\n",
       "      <th>AMH(ng/mL)</th>\n",
       "    </tr>\n",
       "  </thead>\n",
       "  <tbody>\n",
       "    <tr>\n",
       "      <th>405</th>\n",
       "      <td>406</td>\n",
       "      <td>10406</td>\n",
       "      <td>0</td>\n",
       "      <td>465.01</td>\n",
       "      <td>465.01</td>\n",
       "      <td>4.2</td>\n",
       "    </tr>\n",
       "    <tr>\n",
       "      <th>437</th>\n",
       "      <td>438</td>\n",
       "      <td>10438</td>\n",
       "      <td>1</td>\n",
       "      <td>4.20</td>\n",
       "      <td>4.20</td>\n",
       "      <td>8</td>\n",
       "    </tr>\n",
       "    <tr>\n",
       "      <th>47</th>\n",
       "      <td>48</td>\n",
       "      <td>10048</td>\n",
       "      <td>0</td>\n",
       "      <td>1500.00</td>\n",
       "      <td>528.50</td>\n",
       "      <td>4.33</td>\n",
       "    </tr>\n",
       "    <tr>\n",
       "      <th>394</th>\n",
       "      <td>395</td>\n",
       "      <td>10395</td>\n",
       "      <td>0</td>\n",
       "      <td>347.98</td>\n",
       "      <td>1.99</td>\n",
       "      <td>5.8</td>\n",
       "    </tr>\n",
       "    <tr>\n",
       "      <th>16</th>\n",
       "      <td>17</td>\n",
       "      <td>10017</td>\n",
       "      <td>0</td>\n",
       "      <td>8104.21</td>\n",
       "      <td>91.55</td>\n",
       "      <td>3.78</td>\n",
       "    </tr>\n",
       "  </tbody>\n",
       "</table>\n",
       "</div>"
      ],
      "text/plain": [
       "     Sl. No  Patient File No.  PCOS (Y/N)    I   beta-HCG(mIU/mL)  \\\n",
       "405     406             10406           0                  465.01   \n",
       "437     438             10438           1                    4.20   \n",
       "47       48             10048           0                 1500.00   \n",
       "394     395             10395           0                  347.98   \n",
       "16       17             10017           0                 8104.21   \n",
       "\n",
       "     II    beta-HCG(mIU/mL) AMH(ng/mL)  \n",
       "405                  465.01        4.2  \n",
       "437                    4.20          8  \n",
       "47                   528.50       4.33  \n",
       "394                    1.99        5.8  \n",
       "16                    91.55       3.78  "
      ]
     },
     "execution_count": 7,
     "metadata": {},
     "output_type": "execute_result"
    }
   ],
   "source": [
    "df_inf.sample(5)"
   ]
  },
  {
   "cell_type": "code",
   "execution_count": 8,
   "metadata": {
    "colab": {
     "base_uri": "https://localhost:8080/",
     "height": 325
    },
    "id": "BX4ZJ9xXv09N",
    "outputId": "1db3d1b5-3429-4fe6-9b93-1843f3ec05a8"
   },
   "outputs": [
    {
     "data": {
      "text/html": [
       "<div>\n",
       "<style scoped>\n",
       "    .dataframe tbody tr th:only-of-type {\n",
       "        vertical-align: middle;\n",
       "    }\n",
       "\n",
       "    .dataframe tbody tr th {\n",
       "        vertical-align: top;\n",
       "    }\n",
       "\n",
       "    .dataframe thead th {\n",
       "        text-align: right;\n",
       "    }\n",
       "</style>\n",
       "<table border=\"1\" class=\"dataframe\">\n",
       "  <thead>\n",
       "    <tr style=\"text-align: right;\">\n",
       "      <th></th>\n",
       "      <th>Sl. No</th>\n",
       "      <th>Patient File No.</th>\n",
       "      <th>PCOS (Y/N)</th>\n",
       "      <th>Age (yrs)</th>\n",
       "      <th>Weight (Kg)</th>\n",
       "      <th>Height(Cm)</th>\n",
       "      <th>BMI</th>\n",
       "      <th>Blood Group</th>\n",
       "      <th>Pulse rate(bpm)</th>\n",
       "      <th>RR (breaths/min)</th>\n",
       "      <th>...</th>\n",
       "      <th>Fast food (Y/N)</th>\n",
       "      <th>Reg.Exercise(Y/N)</th>\n",
       "      <th>BP _Systolic (mmHg)</th>\n",
       "      <th>BP _Diastolic (mmHg)</th>\n",
       "      <th>Follicle No. (L)</th>\n",
       "      <th>Follicle No. (R)</th>\n",
       "      <th>Avg. F size (L) (mm)</th>\n",
       "      <th>Avg. F size (R) (mm)</th>\n",
       "      <th>Endometrium (mm)</th>\n",
       "      <th>Unnamed: 42</th>\n",
       "    </tr>\n",
       "  </thead>\n",
       "  <tbody>\n",
       "    <tr>\n",
       "      <th>253</th>\n",
       "      <td>254</td>\n",
       "      <td>10254</td>\n",
       "      <td>0</td>\n",
       "      <td>36</td>\n",
       "      <td>46.0</td>\n",
       "      <td>150.0</td>\n",
       "      <td>20.444444</td>\n",
       "      <td>15</td>\n",
       "      <td>72</td>\n",
       "      <td>18</td>\n",
       "      <td>...</td>\n",
       "      <td>0.0</td>\n",
       "      <td>0</td>\n",
       "      <td>110</td>\n",
       "      <td>80</td>\n",
       "      <td>1</td>\n",
       "      <td>3</td>\n",
       "      <td>18.0</td>\n",
       "      <td>14.0</td>\n",
       "      <td>6.0</td>\n",
       "      <td>NaN</td>\n",
       "    </tr>\n",
       "    <tr>\n",
       "      <th>232</th>\n",
       "      <td>233</td>\n",
       "      <td>10233</td>\n",
       "      <td>1</td>\n",
       "      <td>35</td>\n",
       "      <td>55.0</td>\n",
       "      <td>162.0</td>\n",
       "      <td>20.957171</td>\n",
       "      <td>13</td>\n",
       "      <td>72</td>\n",
       "      <td>18</td>\n",
       "      <td>...</td>\n",
       "      <td>1.0</td>\n",
       "      <td>0</td>\n",
       "      <td>120</td>\n",
       "      <td>80</td>\n",
       "      <td>16</td>\n",
       "      <td>14</td>\n",
       "      <td>15.0</td>\n",
       "      <td>18.0</td>\n",
       "      <td>11.5</td>\n",
       "      <td>NaN</td>\n",
       "    </tr>\n",
       "    <tr>\n",
       "      <th>421</th>\n",
       "      <td>422</td>\n",
       "      <td>10422</td>\n",
       "      <td>0</td>\n",
       "      <td>40</td>\n",
       "      <td>74.1</td>\n",
       "      <td>164.0</td>\n",
       "      <td>27.600000</td>\n",
       "      <td>15</td>\n",
       "      <td>78</td>\n",
       "      <td>20</td>\n",
       "      <td>...</td>\n",
       "      <td>1.0</td>\n",
       "      <td>1</td>\n",
       "      <td>120</td>\n",
       "      <td>80</td>\n",
       "      <td>2</td>\n",
       "      <td>4</td>\n",
       "      <td>10.0</td>\n",
       "      <td>16.0</td>\n",
       "      <td>7.2</td>\n",
       "      <td>NaN</td>\n",
       "    </tr>\n",
       "    <tr>\n",
       "      <th>497</th>\n",
       "      <td>498</td>\n",
       "      <td>10498</td>\n",
       "      <td>0</td>\n",
       "      <td>35</td>\n",
       "      <td>54.0</td>\n",
       "      <td>140.0</td>\n",
       "      <td>27.600000</td>\n",
       "      <td>11</td>\n",
       "      <td>72</td>\n",
       "      <td>20</td>\n",
       "      <td>...</td>\n",
       "      <td>0.0</td>\n",
       "      <td>0</td>\n",
       "      <td>110</td>\n",
       "      <td>70</td>\n",
       "      <td>9</td>\n",
       "      <td>7</td>\n",
       "      <td>20.0</td>\n",
       "      <td>16.0</td>\n",
       "      <td>6.6</td>\n",
       "      <td>NaN</td>\n",
       "    </tr>\n",
       "    <tr>\n",
       "      <th>229</th>\n",
       "      <td>230</td>\n",
       "      <td>10230</td>\n",
       "      <td>0</td>\n",
       "      <td>28</td>\n",
       "      <td>74.3</td>\n",
       "      <td>154.0</td>\n",
       "      <td>31.329061</td>\n",
       "      <td>13</td>\n",
       "      <td>72</td>\n",
       "      <td>18</td>\n",
       "      <td>...</td>\n",
       "      <td>1.0</td>\n",
       "      <td>0</td>\n",
       "      <td>110</td>\n",
       "      <td>80</td>\n",
       "      <td>6</td>\n",
       "      <td>5</td>\n",
       "      <td>14.0</td>\n",
       "      <td>13.0</td>\n",
       "      <td>8.5</td>\n",
       "      <td>NaN</td>\n",
       "    </tr>\n",
       "  </tbody>\n",
       "</table>\n",
       "<p>5 rows × 43 columns</p>\n",
       "</div>"
      ],
      "text/plain": [
       "     Sl. No  Patient File No.  PCOS (Y/N)   Age (yrs)  Weight (Kg)  \\\n",
       "253     254             10254           0          36         46.0   \n",
       "232     233             10233           1          35         55.0   \n",
       "421     422             10422           0          40         74.1   \n",
       "497     498             10498           0          35         54.0   \n",
       "229     230             10230           0          28         74.3   \n",
       "\n",
       "     Height(Cm)         BMI  Blood Group  Pulse rate(bpm)   RR (breaths/min)  \\\n",
       "253        150.0  20.444444           15                72                18   \n",
       "232        162.0  20.957171           13                72                18   \n",
       "421        164.0  27.600000           15                78                20   \n",
       "497        140.0  27.600000           11                72                20   \n",
       "229        154.0  31.329061           13                72                18   \n",
       "\n",
       "     ...  Fast food (Y/N)  Reg.Exercise(Y/N)  BP _Systolic (mmHg)  \\\n",
       "253  ...              0.0                  0                  110   \n",
       "232  ...              1.0                  0                  120   \n",
       "421  ...              1.0                  1                  120   \n",
       "497  ...              0.0                  0                  110   \n",
       "229  ...              1.0                  0                  110   \n",
       "\n",
       "     BP _Diastolic (mmHg)  Follicle No. (L)  Follicle No. (R)  \\\n",
       "253                    80                 1                 3   \n",
       "232                    80                16                14   \n",
       "421                    80                 2                 4   \n",
       "497                    70                 9                 7   \n",
       "229                    80                 6                 5   \n",
       "\n",
       "     Avg. F size (L) (mm)  Avg. F size (R) (mm)  Endometrium (mm)  Unnamed: 42  \n",
       "253                  18.0                  14.0               6.0          NaN  \n",
       "232                  15.0                  18.0              11.5          NaN  \n",
       "421                  10.0                  16.0               7.2          NaN  \n",
       "497                  20.0                  16.0               6.6          NaN  \n",
       "229                  14.0                  13.0               8.5          NaN  \n",
       "\n",
       "[5 rows x 43 columns]"
      ]
     },
     "execution_count": 8,
     "metadata": {},
     "output_type": "execute_result"
    }
   ],
   "source": [
    "df_noinf.sample(5)\n"
   ]
  },
  {
   "cell_type": "markdown",
   "metadata": {},
   "source": [
    "# Feature Selection"
   ]
  },
  {
   "cell_type": "code",
   "execution_count": 9,
   "metadata": {
    "colab": {
     "base_uri": "https://localhost:8080/"
    },
    "id": "yQglbsy8zSvu",
    "outputId": "6c18db1f-e6be-494b-c87a-3130296e0d9e"
   },
   "outputs": [
    {
     "data": {
      "text/plain": [
       "Index(['PCOS (Y/N)', 'Follicle No. (R)', 'Follicle No. (L)',\n",
       "       'Skin darkening (Y/N)', 'hair growth(Y/N)', 'Weight gain(Y/N)',\n",
       "       'Cycle(R/I)'],\n",
       "      dtype='object')"
      ]
     },
     "execution_count": 9,
     "metadata": {},
     "output_type": "execute_result"
    }
   ],
   "source": [
    "#Identifying Features which have more than 0.40 correlation with PCOS(Y/N)\n",
    "\n",
    "corr_features=df_noinf.corrwith(df_noinf[\"PCOS (Y/N)\"]).abs().sort_values(ascending=False)\n",
    "#features with correlation more than 0.4\n",
    "corr_features=corr_features[corr_features>0.4].index\n",
    "corr_features"
   ]
  },
  {
   "cell_type": "code",
   "execution_count": 10,
   "metadata": {
    "colab": {
     "base_uri": "https://localhost:8080/"
    },
    "id": "2uxcg0X4JWf6",
    "outputId": "ac9cb4d8-6666-4f0d-8d30-2bd5d996bef7"
   },
   "outputs": [
    {
     "data": {
      "text/plain": [
       "Sl. No                    0.060998\n",
       "Patient File No.          0.060998\n",
       "PCOS (Y/N)                1.000000\n",
       "  I   beta-HCG(mIU/mL)    0.027617\n",
       "II    beta-HCG(mIU/mL)    0.012757\n",
       "dtype: float64"
      ]
     },
     "execution_count": 10,
     "metadata": {},
     "output_type": "execute_result"
    }
   ],
   "source": [
    "df_inf.corrwith(df_inf[\"PCOS (Y/N)\"]).abs()"
   ]
  },
  {
   "cell_type": "code",
   "execution_count": 11,
   "metadata": {
    "colab": {
     "base_uri": "https://localhost:8080/",
     "height": 206
    },
    "id": "F1Xfl3xTz7wQ",
    "outputId": "f4fbfb68-b8ef-4b28-bed8-579e09993942"
   },
   "outputs": [
    {
     "data": {
      "text/html": [
       "<div>\n",
       "<style scoped>\n",
       "    .dataframe tbody tr th:only-of-type {\n",
       "        vertical-align: middle;\n",
       "    }\n",
       "\n",
       "    .dataframe tbody tr th {\n",
       "        vertical-align: top;\n",
       "    }\n",
       "\n",
       "    .dataframe thead th {\n",
       "        text-align: right;\n",
       "    }\n",
       "</style>\n",
       "<table border=\"1\" class=\"dataframe\">\n",
       "  <thead>\n",
       "    <tr style=\"text-align: right;\">\n",
       "      <th></th>\n",
       "      <th>PCOS (Y/N)</th>\n",
       "      <th>Follicle No. (R)</th>\n",
       "      <th>Follicle No. (L)</th>\n",
       "      <th>Skin darkening (Y/N)</th>\n",
       "      <th>hair growth(Y/N)</th>\n",
       "      <th>Weight gain(Y/N)</th>\n",
       "      <th>Cycle(R/I)</th>\n",
       "    </tr>\n",
       "  </thead>\n",
       "  <tbody>\n",
       "    <tr>\n",
       "      <th>0</th>\n",
       "      <td>0</td>\n",
       "      <td>3</td>\n",
       "      <td>3</td>\n",
       "      <td>0</td>\n",
       "      <td>0</td>\n",
       "      <td>0</td>\n",
       "      <td>2</td>\n",
       "    </tr>\n",
       "    <tr>\n",
       "      <th>1</th>\n",
       "      <td>0</td>\n",
       "      <td>5</td>\n",
       "      <td>3</td>\n",
       "      <td>0</td>\n",
       "      <td>0</td>\n",
       "      <td>0</td>\n",
       "      <td>2</td>\n",
       "    </tr>\n",
       "    <tr>\n",
       "      <th>2</th>\n",
       "      <td>1</td>\n",
       "      <td>15</td>\n",
       "      <td>13</td>\n",
       "      <td>0</td>\n",
       "      <td>0</td>\n",
       "      <td>0</td>\n",
       "      <td>2</td>\n",
       "    </tr>\n",
       "    <tr>\n",
       "      <th>3</th>\n",
       "      <td>0</td>\n",
       "      <td>2</td>\n",
       "      <td>2</td>\n",
       "      <td>0</td>\n",
       "      <td>0</td>\n",
       "      <td>0</td>\n",
       "      <td>2</td>\n",
       "    </tr>\n",
       "    <tr>\n",
       "      <th>4</th>\n",
       "      <td>0</td>\n",
       "      <td>4</td>\n",
       "      <td>3</td>\n",
       "      <td>0</td>\n",
       "      <td>0</td>\n",
       "      <td>0</td>\n",
       "      <td>2</td>\n",
       "    </tr>\n",
       "  </tbody>\n",
       "</table>\n",
       "</div>"
      ],
      "text/plain": [
       "   PCOS (Y/N)  Follicle No. (R)  Follicle No. (L)  Skin darkening (Y/N)  \\\n",
       "0           0                 3                 3                     0   \n",
       "1           0                 5                 3                     0   \n",
       "2           1                15                13                     0   \n",
       "3           0                 2                 2                     0   \n",
       "4           0                 4                 3                     0   \n",
       "\n",
       "   hair growth(Y/N)  Weight gain(Y/N)  Cycle(R/I)  \n",
       "0                 0                 0           2  \n",
       "1                 0                 0           2  \n",
       "2                 0                 0           2  \n",
       "3                 0                 0           2  \n",
       "4                 0                 0           2  "
      ]
     },
     "execution_count": 11,
     "metadata": {},
     "output_type": "execute_result"
    }
   ],
   "source": [
    "df_noinf=df_noinf[corr_features]\n",
    "df_noinf.head()"
   ]
  },
  {
   "cell_type": "markdown",
   "metadata": {
    "id": "QRgbjwA10f-i"
   },
   "source": [
    "# EDA"
   ]
  },
  {
   "cell_type": "code",
   "execution_count": 20,
   "metadata": {
    "colab": {
     "base_uri": "https://localhost:8080/",
     "height": 1000
    },
    "id": "uWtw2X5V0dKJ",
    "outputId": "d309618f-7ad3-4af6-911a-c1167335cd5a"
   },
   "outputs": [
    {
     "data": {
      "image/png": "[encoded data removed]",
      "text/plain": [
       "<Figure size 1296x1296 with 2 Axes>"
      ]
     },
     "metadata": {},
     "output_type": "display_data"
    }
   ],
   "source": [
    "#Examaning a correlation matrix of all the features\n",
    "\n",
    "corrmat = df_noinf.corr()\n",
    "plt.subplots(figsize=(18,18))\n",
    "sns.heatmap(corrmat,cmap=\"Pastel1\", square=True);"
   ]
  },
  {
   "cell_type": "code",
   "execution_count": 13,
   "metadata": {
    "colab": {
     "base_uri": "https://localhost:8080/",
     "height": 473
    },
    "id": "krnjaar-azy2",
    "outputId": "2fdbe649-dbea-4321-fd91-76f70c450f19"
   },
   "outputs": [
    {
     "data": {
      "image/png": "[encoded data removed]",
      "text/plain": [
       "<Figure size 1008x360 with 6 Axes>"
      ]
     },
     "metadata": {},
     "output_type": "display_data"
    }
   ],
   "source": [
    "plt.figure(figsize=(14,5))\n",
    "plt.subplot(1,6,1)\n",
    "sns.boxplot(x='PCOS (Y/N)',y='Follicle No. (R)',data=df_noinf)\n",
    "#plt.subplot(1,7,2)\n",
    "#sns.boxplot(x='PCOS (Y/N)',y='Insulin levels (æIU/ml)',data=df_noinf)\n",
    "plt.subplot(1,6,2)\n",
    "sns.boxplot(x='PCOS (Y/N)',y='Follicle No. (L)',data=df_noinf)\n",
    "plt.subplot(1,6,3)\n",
    "sns.boxplot(x='PCOS (Y/N)',y='Skin darkening (Y/N)',data=df_noinf)\n",
    "plt.subplot(1,6,4)\n",
    "sns.boxplot(x='PCOS (Y/N)',y='hair growth(Y/N)',data=df_noinf)\n",
    "plt.subplot(1,6,5)\n",
    "sns.boxplot(x='PCOS (Y/N)',y='Weight gain(Y/N)',data=df_noinf)\n",
    "plt.subplot(1,6,6)\n",
    "sns.boxplot(x='PCOS (Y/N)',y='Cycle(R/I)',data=df_noinf)\n",
    "\n",
    "plt.show()\n"
   ]
  },
  {
   "cell_type": "code",
   "execution_count": 14,
   "metadata": {
    "colab": {
     "base_uri": "https://localhost:8080/",
     "height": 597
    },
    "id": "HzOjgU9V0jeb",
    "outputId": "57029efa-382e-48a9-9176-a2a579d0f8b0"
   },
   "outputs": [
    {
     "data": {
      "image/png": "[encoded data removed]",
      "text/plain": [
       "<Figure size 432x360 with 2 Axes>"
      ]
     },
     "metadata": {},
     "output_type": "display_data"
    }
   ],
   "source": [
    "plt.figure(figsize=(6,5))\n",
    "sns.heatmap(df_noinf.corr(), annot=True)\n",
    "plt.show()"
   ]
  },
  {
   "cell_type": "code",
   "execution_count": 15,
   "metadata": {
    "id": "UJt-XAez4Afc"
   },
   "outputs": [],
   "source": [
    "y=df_noinf['PCOS (Y/N)']\n",
    "X=df_noinf.drop(['PCOS (Y/N)'], axis=1)"
   ]
  },
  {
   "cell_type": "code",
   "execution_count": 16,
   "metadata": {
    "id": "cCx2q4aw4I5U"
   },
   "outputs": [],
   "source": [
    "X_train,X_test,y_train, y_test=train_test_split(X,y, test_size=0.2)"
   ]
  },
  {
   "cell_type": "markdown",
   "metadata": {
    "id": "6oiZ6turHh52"
   },
   "source": [
    "# Training Model"
   ]
  },
  {
   "cell_type": "code",
   "execution_count": 17,
   "metadata": {
    "colab": {
     "base_uri": "https://localhost:8080/"
    },
    "id": "w_t6ydMH4Lhs",
    "outputId": "9fbc5521-41eb-447f-b38d-9b1db84e0f53"
   },
   "outputs": [
    {
     "name": "stdout",
     "output_type": "stream",
     "text": [
      "Score in Train Data : 0.9027777777777778\n"
     ]
    }
   ],
   "source": [
    "model=LogisticRegression()\n",
    "model.fit(X_train,y_train)\n",
    "print(f\"Score in Train Data : {model.score(X_train,y_train)}\")"
   ]
  },
  {
   "cell_type": "markdown",
   "metadata": {
    "id": "lKFk1-lFWK89"
   },
   "source": [
    "# Prediction"
   ]
  },
  {
   "cell_type": "code",
   "execution_count": 18,
   "metadata": {
    "id": "w0K8AWpp4s45"
   },
   "outputs": [],
   "source": [
    "y_pred=model.predict(X_test)"
   ]
  },
  {
   "cell_type": "markdown",
   "metadata": {
    "id": "OnP6d-56WYDW"
   },
   "source": [
    "# Model Evalution"
   ]
  },
  {
   "cell_type": "code",
   "execution_count": 19,
   "metadata": {
    "colab": {
     "base_uri": "https://localhost:8080/"
    },
    "id": "_Xe9EtDu5EYg",
    "outputId": "6b64c678-3fb4-4f38-bfe1-94985ef9992f"
   },
   "outputs": [
    {
     "name": "stdout",
     "output_type": "stream",
     "text": [
      "Score in Test Data : 0.9174311926605505\n",
      "Right classification : 100\n",
      "Wrong classification : 9\n"
     ]
    },
    {
     "data": {
      "text/plain": [
       "array([[64,  5],\n",
       "       [ 4, 36]], dtype=int64)"
      ]
     },
     "execution_count": 19,
     "metadata": {},
     "output_type": "execute_result"
    }
   ],
   "source": [
    "print(f\"Score in Test Data : {model.score(X_test,y_test)}\")\n",
    "\n",
    "cm=confusion_matrix(y_test, y_pred)\n",
    "p_right=cm[0][0]+cm[1][1]\n",
    "p_wrong=cm[0][1]+cm[1][0]\n",
    "\n",
    "print(f\"Right classification : {p_right}\")\n",
    "print(f\"Wrong classification : {p_wrong}\")\n",
    "cm"
   ]
  },
  {
   "cell_type": "code",
   "execution_count": null,
   "metadata": {},
   "outputs": [],
   "source": []
  },
  {
   "cell_type": "code",
   "execution_count": null,
   "metadata": {},
   "outputs": [],
   "source": []
  },
  {
   "cell_type": "code",
   "execution_count": null,
   "metadata": {},
   "outputs": [],
   "source": []
  }
 ],
 "metadata": {
  "colab": {
   "provenance": []
  },
  "kernelspec": {
   "display_name": "Python 3",
   "language": "python",
   "name": "python3"
  },
  "language_info": {
   "codemirror_mode": {
    "name": "ipython",
    "version": 3
   },
   "file_extension": ".py",
   "mimetype": "text/x-python",
   "name": "python",
   "nbconvert_exporter": "python",
   "pygments_lexer": "ipython3",
   "version": "3.9.6"
  }
 },
 "nbformat": 4,
 "nbformat_minor": 1
}
